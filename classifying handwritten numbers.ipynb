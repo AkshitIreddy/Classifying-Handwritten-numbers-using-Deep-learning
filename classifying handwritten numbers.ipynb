{
 "cells": [
  {
   "cell_type": "code",
   "execution_count": 1,
   "id": "67675caa",
   "metadata": {
    "_cell_guid": "b1076dfc-b9ad-4769-8c92-a6c4dae69d19",
    "_uuid": "8f2839f25d086af736a60e9eeb907d3b93b6e0e5",
    "execution": {
     "iopub.execute_input": "2021-09-21T04:21:38.933595Z",
     "iopub.status.busy": "2021-09-21T04:21:38.928957Z",
     "iopub.status.idle": "2021-09-21T04:21:38.937351Z",
     "shell.execute_reply": "2021-09-21T04:21:38.937941Z",
     "shell.execute_reply.started": "2021-09-21T03:26:55.896595Z"
    },
    "papermill": {
     "duration": 0.03122,
     "end_time": "2021-09-21T04:21:38.938246",
     "exception": false,
     "start_time": "2021-09-21T04:21:38.907026",
     "status": "completed"
    },
    "tags": []
   },
   "outputs": [],
   "source": [
    "import numpy as np \n",
    "import pandas as pd \n",
    "import os"
   ]
  },
  {
   "cell_type": "code",
   "execution_count": 4,
   "id": "7e1e1360",
   "metadata": {
    "execution": {
     "iopub.execute_input": "2021-09-21T04:21:38.962072Z",
     "iopub.status.busy": "2021-09-21T04:21:38.961099Z",
     "iopub.status.idle": "2021-09-21T04:21:57.521182Z",
     "shell.execute_reply": "2021-09-21T04:21:57.521752Z",
     "shell.execute_reply.started": "2021-09-21T04:14:52.857048Z"
    },
    "papermill": {
     "duration": 18.573401,
     "end_time": "2021-09-21T04:21:57.521967",
     "exception": false,
     "start_time": "2021-09-21T04:21:38.948566",
     "status": "completed"
    },
    "tags": []
   },
   "outputs": [
    {
     "name": "stdout",
     "output_type": "stream",
     "text": [
      "2.6.0\n",
      "Downloading data from https://storage.googleapis.com/tensorflow/tf-keras-datasets/mnist.npz\n",
      "11493376/11490434 [==============================] - 1s 0us/step\n",
      "11501568/11490434 [==============================] - 1s 0us/step\n"
     ]
    }
   ],
   "source": [
    "import tensorflow as tf\n",
    "from tensorflow.keras import layers\n",
    "\n",
    "#version\n",
    "print(tf.__version__)\n",
    "\n",
    "#load handwritten numbers dataset\n",
    "mnist = tf.keras.datasets.mnist\n",
    "(x_train, y_train), (x_test, y_test) = mnist.load_data()\n",
    "\n"
   ]
  },
  {
   "cell_type": "code",
   "execution_count": 13,
   "id": "15c0bb43",
   "metadata": {
    "execution": {
     "iopub.execute_input": "2021-09-21T04:21:57.703638Z",
     "iopub.status.busy": "2021-09-21T04:21:57.702962Z",
     "iopub.status.idle": "2021-09-21T04:21:57.900937Z",
     "shell.execute_reply": "2021-09-21T04:21:57.900145Z",
     "shell.execute_reply.started": "2021-09-21T03:58:19.888279Z"
    },
    "papermill": {
     "duration": 0.298539,
     "end_time": "2021-09-21T04:21:57.901082",
     "exception": false,
     "start_time": "2021-09-21T04:21:57.602543",
     "status": "completed"
    },
    "tags": []
   },
   "outputs": [
    {
     "data": {
      "image/png": "[encoded data removed]",
      "text/plain": [
       "<Figure size 432x288 with 1 Axes>"
      ]
     },
     "metadata": {
      "needs_background": "light"
     },
     "output_type": "display_data"
    },
    {
     "name": "stdout",
     "output_type": "stream",
     "text": [
      "This number is 0\n",
      "This data is not normalised\n",
      "[[  0   0   0   0   0   0   0   0   0   0   0   0   0   0   0   0   0   0\n",
      "    0   0   0   0   0   0   0   0   0   0]\n",
      " [  0   0   0   0   0   0   0   0   0   0   0   0   0   0   0   0   0   0\n",
      "    0   0   0   0   0   0   0   0   0   0]\n",
      " [  0   0   0   0   0   0   0   0   0   0   0   0   0   0   0   0   0   0\n",
      "    0   0   0   0   0   0   0   0   0   0]\n",
      " [  0   0   0   0   0   0   0   0   0   0   0   0   0   0   0   0   0   0\n",
      "    0   0   0   0   0   0   0   0   0   0]\n",
      " [  0   0   0   0   0   0   0   0   0   0   0   0   0   0   0  51 159 253\n",
      "  159  50   0   0   0   0   0   0   0   0]\n",
      " [  0   0   0   0   0   0   0   0   0   0   0   0   0   0  48 238 252 252\n",
      "  252 237   0   0   0   0   0   0   0   0]\n",
      " [  0   0   0   0   0   0   0   0   0   0   0   0   0  54 227 253 252 239\n",
      "  233 252  57   6   0   0   0   0   0   0]\n",
      " [  0   0   0   0   0   0   0   0   0   0   0  10  60 224 252 253 252 202\n",
      "   84 252 253 122   0   0   0   0   0   0]\n",
      " [  0   0   0   0   0   0   0   0   0   0   0 163 252 252 252 253 252 252\n",
      "   96 189 253 167   0   0   0   0   0   0]\n",
      " [  0   0   0   0   0   0   0   0   0   0  51 238 253 253 190 114 253 228\n",
      "   47  79 255 168   0   0   0   0   0   0]\n",
      " [  0   0   0   0   0   0   0   0   0  48 238 252 252 179  12  75 121  21\n",
      "    0   0 253 243  50   0   0   0   0   0]\n",
      " [  0   0   0   0   0   0   0   0  38 165 253 233 208  84   0   0   0   0\n",
      "    0   0 253 252 165   0   0   0   0   0]\n",
      " [  0   0   0   0   0   0   0   7 178 252 240  71  19  28   0   0   0   0\n",
      "    0   0 253 252 195   0   0   0   0   0]\n",
      " [  0   0   0   0   0   0   0  57 252 252  63   0   0   0   0   0   0   0\n",
      "    0   0 253 252 195   0   0   0   0   0]\n",
      " [  0   0   0   0   0   0   0 198 253 190   0   0   0   0   0   0   0   0\n",
      "    0   0 255 253 196   0   0   0   0   0]\n",
      " [  0   0   0   0   0   0  76 246 252 112   0   0   0   0   0   0   0   0\n",
      "    0   0 253 252 148   0   0   0   0   0]\n",
      " [  0   0   0   0   0   0  85 252 230  25   0   0   0   0   0   0   0   0\n",
      "    7 135 253 186  12   0   0   0   0   0]\n",
      " [  0   0   0   0   0   0  85 252 223   0   0   0   0   0   0   0   0   7\n",
      "  131 252 225  71   0   0   0   0   0   0]\n",
      " [  0   0   0   0   0   0  85 252 145   0   0   0   0   0   0   0  48 165\n",
      "  252 173   0   0   0   0   0   0   0   0]\n",
      " [  0   0   0   0   0   0  86 253 225   0   0   0   0   0   0 114 238 253\n",
      "  162   0   0   0   0   0   0   0   0   0]\n",
      " [  0   0   0   0   0   0  85 252 249 146  48  29  85 178 225 253 223 167\n",
      "   56   0   0   0   0   0   0   0   0   0]\n",
      " [  0   0   0   0   0   0  85 252 252 252 229 215 252 252 252 196 130   0\n",
      "    0   0   0   0   0   0   0   0   0   0]\n",
      " [  0   0   0   0   0   0  28 199 252 252 253 252 252 233 145   0   0   0\n",
      "    0   0   0   0   0   0   0   0   0   0]\n",
      " [  0   0   0   0   0   0   0  25 128 252 253 252 141  37   0   0   0   0\n",
      "    0   0   0   0   0   0   0   0   0   0]\n",
      " [  0   0   0   0   0   0   0   0   0   0   0   0   0   0   0   0   0   0\n",
      "    0   0   0   0   0   0   0   0   0   0]\n",
      " [  0   0   0   0   0   0   0   0   0   0   0   0   0   0   0   0   0   0\n",
      "    0   0   0   0   0   0   0   0   0   0]\n",
      " [  0   0   0   0   0   0   0   0   0   0   0   0   0   0   0   0   0   0\n",
      "    0   0   0   0   0   0   0   0   0   0]\n",
      " [  0   0   0   0   0   0   0   0   0   0   0   0   0   0   0   0   0   0\n",
      "    0   0   0   0   0   0   0   0   0   0]]\n"
     ]
    }
   ],
   "source": [
    "#lets see the handwritten number\n",
    "import matplotlib.pyplot as plt\n",
    "plt.imshow(x_train[1], cmap = plt.cm.binary)\n",
    "plt.show()\n",
    "\n",
    "#Lets see what the number is labelled as\n",
    "print(\"This number is \" + str(y_train[1]))\n",
    "\n",
    "#lets see how the number is represented\n",
    "print(\"This data is not normalised\")\n",
    "print(x_train[1])"
   ]
  },
  {
   "cell_type": "code",
   "execution_count": 34,
   "id": "38c2aaa7",
   "metadata": {},
   "outputs": [
    {
     "name": "stdout",
     "output_type": "stream",
     "text": [
      "The number of pictures for each number is:\n",
      "{0: 5923, 1: 6742, 2: 5958, 3: 6131, 4: 5842, 5: 5421, 6: 5918, 7: 6265, 8: 5851, 9: 5949}\n",
      "\n",
      "The percentage of pictures for each number is: \n",
      "{0: 0.0987, 1: 0.1124, 2: 0.0993, 3: 0.1022, 4: 0.0974, 5: 0.0903, 6: 0.0986, 7: 0.1044, 8: 0.0975, 9: 0.0992}\n",
      " \n",
      "The reason I checked the dataset was to see if it had a similar distribution of pictures for each number because if it had a   distribution like 90 percent of threes and 10 percent of other numbers then our model would be good at predicting threes but   bad at predicting other numbers\n"
     ]
    }
   ],
   "source": [
    "#lets see distribution of the data, we ideally expect the data to have equal number of handwritten pictures for each number\n",
    "num_dict = {0:0, 1:0, 2:0, 3:0, 4:0, 5:0, 6:0, 7:0, 8:0, 9:0}\n",
    "\n",
    "for numlabel in y_train:\n",
    "    for num in num_dict:\n",
    "        if numlabel == num:\n",
    "            num_dict[num] += 1\n",
    "            break\n",
    "      \n",
    "print(\"The number of pictures for each number is:\")\n",
    "print(num_dict)\n",
    "\n",
    "for num in num_dict:\n",
    "    num_dict[num] = round(num_dict[num]/len(y_train), 4)\n",
    "\n",
    "print(\"\\nThe percentage of pictures for each number is: \")\n",
    "print(num_dict)\n",
    "\n",
    "print(\" \\nThe reason I checked the dataset was to see if it had a similar distribution of pictures for each number because if it had a   distribution like 90 percent of threes and 10 percent of other numbers then our model would be good at predicting threes but   bad at predicting other numbers\")"
   ]
  },
  {
   "cell_type": "code",
   "execution_count": 35,
   "id": "d86c5b91",
   "metadata": {},
   "outputs": [
    {
     "name": "stdout",
     "output_type": "stream",
     "text": [
      "Epoch 1/3\n",
      "1875/1875 [==============================] - 5s 2ms/step - loss: 0.2624 - accuracy: 0.9244\n",
      "Epoch 2/3\n",
      "1875/1875 [==============================] - 4s 2ms/step - loss: 0.1093 - accuracy: 0.9664\n",
      "Epoch 3/3\n",
      "1875/1875 [==============================] - 3s 2ms/step - loss: 0.0719 - accuracy: 0.9777\n"
     ]
    },
    {
     "data": {
      "text/plain": [
       "<keras.callbacks.History at 0x24b2f207520>"
      ]
     },
     "execution_count": 35,
     "metadata": {},
     "output_type": "execute_result"
    }
   ],
   "source": [
    "#normalize the data\n",
    "x_train = tf.keras.utils.normalize(x_train, axis = 1)\n",
    "x_test = tf.keras.utils.normalize(x_test, axis = 1)\n",
    "\n",
    "#Create the model\n",
    "model = tf.keras.Sequential([\n",
    "                            layers.Flatten(),\n",
    "                            layers.Dense(128, activation = 'relu'),\n",
    "                            layers.Dense(128, activation = 'relu'),\n",
    "                            layers.Dense(10, activation = 'softmax')\n",
    "])\n",
    "\n",
    "\n",
    "#Compile the model\n",
    "model.compile(optimizer = 'adam',\n",
    "              loss = 'sparse_categorical_crossentropy',\n",
    "              metrics = ['accuracy'])\n",
    "\n",
    "#Train the model\n",
    "model.fit(x_train, y_train, epochs = 3)"
   ]
  },
  {
   "cell_type": "code",
   "execution_count": 36,
   "id": "179bac35",
   "metadata": {
    "execution": {
     "iopub.execute_input": "2021-09-21T04:21:58.069909Z",
     "iopub.status.busy": "2021-09-21T04:21:58.068483Z",
     "iopub.status.idle": "2021-09-21T04:21:58.680002Z",
     "shell.execute_reply": "2021-09-21T04:21:58.679445Z",
     "shell.execute_reply.started": "2021-09-21T04:15:50.720253Z"
    },
    "papermill": {
     "duration": 0.697111,
     "end_time": "2021-09-21T04:21:58.680151",
     "exception": false,
     "start_time": "2021-09-21T04:21:57.983040",
     "status": "completed"
    },
    "tags": []
   },
   "outputs": [
    {
     "name": "stdout",
     "output_type": "stream",
     "text": [
      "313/313 [==============================] - 0s 1ms/step - loss: 0.0973 - accuracy: 0.9727\n",
      "val_loss: 0.09729473292827606 val_acc: 0.9726999998092651\n"
     ]
    }
   ],
   "source": [
    "#Test the model with data it hasn't seen before, remember we still have xtest and ytest!\n",
    "val_loss, val_acc = model.evaluate(x_test, y_test)\n",
    "print(\"val_loss: \"+str(val_loss)+\" val_acc: \"+ str(val_acc))\n",
    "#We have an accuracy of 97 percent, thats good!"
   ]
  },
  {
   "cell_type": "code",
   "execution_count": 37,
   "id": "6b5957df",
   "metadata": {
    "execution": {
     "iopub.execute_input": "2021-09-21T04:21:58.850937Z",
     "iopub.status.busy": "2021-09-21T04:21:58.850254Z",
     "iopub.status.idle": "2021-09-21T04:22:00.218892Z",
     "shell.execute_reply": "2021-09-21T04:22:00.217595Z",
     "shell.execute_reply.started": "2021-09-21T04:17:13.003586Z"
    },
    "papermill": {
     "duration": 1.456016,
     "end_time": "2021-09-21T04:22:00.219061",
     "exception": false,
     "start_time": "2021-09-21T04:21:58.763045",
     "status": "completed"
    },
    "tags": []
   },
   "outputs": [
    {
     "name": "stdout",
     "output_type": "stream",
     "text": [
      "INFO:tensorflow:Assets written to: my_first_deep_learning_model\\assets\n"
     ]
    }
   ],
   "source": [
    "#Save the model so that you don't have to waste time everytime you want to use the model.\n",
    "model.save('my_first_deep_learning_model')\n",
    "\n",
    "#load the saved model\n",
    "new_model = tf.keras.models.load_model('my_first_deep_learning_model')"
   ]
  },
  {
   "cell_type": "code",
   "execution_count": 38,
   "id": "de214b79",
   "metadata": {
    "execution": {
     "iopub.execute_input": "2021-09-21T04:22:00.394043Z",
     "iopub.status.busy": "2021-09-21T04:22:00.393093Z",
     "iopub.status.idle": "2021-09-21T04:22:00.880944Z",
     "shell.execute_reply": "2021-09-21T04:22:00.880336Z",
     "shell.execute_reply.started": "2021-09-21T04:17:41.527296Z"
    },
    "papermill": {
     "duration": 0.579144,
     "end_time": "2021-09-21T04:22:00.881098",
     "exception": false,
     "start_time": "2021-09-21T04:22:00.301954",
     "status": "completed"
    },
    "tags": []
   },
   "outputs": [
    {
     "name": "stdout",
     "output_type": "stream",
     "text": [
      "[[3.61148556e-10 2.22611907e-09 1.74313584e-06 ... 9.99997973e-01\n",
      "  1.07992948e-09 3.15052406e-09]\n",
      " [7.26385055e-12 7.98923196e-04 9.99174654e-01 ... 5.21451604e-10\n",
      "  1.95581826e-08 4.21218052e-12]\n",
      " [1.79900255e-08 9.99742687e-01 1.13759867e-04 ... 3.24904286e-05\n",
      "  3.33968273e-05 1.84636122e-07]\n",
      " ...\n",
      " [1.27131528e-09 4.98364216e-07 9.54150181e-08 ... 2.48178349e-05\n",
      "  1.30564085e-05 2.48207707e-05]\n",
      " [6.42371674e-07 6.68754652e-08 5.76460799e-08 ... 1.05618483e-06\n",
      "  5.48908065e-05 1.57671973e-08]\n",
      " [5.69157770e-08 4.02286315e-10 1.11208479e-07 ... 4.47032775e-12\n",
      "  3.32868133e-08 8.38419167e-10]]\n"
     ]
    }
   ],
   "source": [
    "#lets use our saved model to predict the value of x_test\n",
    "predictions = new_model.predict(x_test)\n",
    "print(predictions)"
   ]
  },
  {
   "cell_type": "code",
   "execution_count": 46,
   "id": "3c08f0e7",
   "metadata": {
    "execution": {
     "iopub.execute_input": "2021-09-21T04:22:01.054832Z",
     "iopub.status.busy": "2021-09-21T04:22:01.054094Z",
     "iopub.status.idle": "2021-09-21T04:22:01.058959Z",
     "shell.execute_reply": "2021-09-21T04:22:01.059472Z",
     "shell.execute_reply.started": "2021-09-21T04:20:56.707238Z"
    },
    "papermill": {
     "duration": 0.094418,
     "end_time": "2021-09-21T04:22:01.059640",
     "exception": false,
     "start_time": "2021-09-21T04:22:00.965222",
     "status": "completed"
    },
    "tags": []
   },
   "outputs": [
    {
     "name": "stdout",
     "output_type": "stream",
     "text": [
      "The fist prediction is 7\n"
     ]
    }
   ],
   "source": [
    "#lets see if our model predicted the correct answer or not\n",
    "import numpy as np\n",
    "\n",
    "#This is the first prediction\n",
    "print(\"The fist prediction is \"+ str(np.argmax(predictions[0])))"
   ]
  },
  {
   "cell_type": "code",
   "execution_count": 47,
   "id": "c40ccf98",
   "metadata": {
    "execution": {
     "iopub.execute_input": "2021-09-21T04:22:01.233422Z",
     "iopub.status.busy": "2021-09-21T04:22:01.232437Z",
     "iopub.status.idle": "2021-09-21T04:22:01.427870Z",
     "shell.execute_reply": "2021-09-21T04:22:01.427309Z",
     "shell.execute_reply.started": "2021-09-21T04:20:52.550720Z"
    },
    "papermill": {
     "duration": 0.283849,
     "end_time": "2021-09-21T04:22:01.428023",
     "exception": false,
     "start_time": "2021-09-21T04:22:01.144174",
     "status": "completed"
    },
    "tags": []
   },
   "outputs": [
    {
     "data": {
      "image/png": "[encoded data removed]",
      "text/plain": [
       "<Figure size 432x288 with 1 Axes>"
      ]
     },
     "metadata": {
      "needs_background": "light"
     },
     "output_type": "display_data"
    },
    {
     "name": "stdout",
     "output_type": "stream",
     "text": [
      "Yes our model's prediction is right\n"
     ]
    }
   ],
   "source": [
    "#lets us plot the prediction to see if it is a seven or not \n",
    "plt.imshow(x_test[0], cmap = plt.cm.binary)\n",
    "plt.show()\n",
    "print(\"Yes our model's prediction is right\")"
   ]
  }
 ],
 "metadata": {
  "kernelspec": {
   "display_name": "Python 3 (ipykernel)",
   "language": "python",
   "name": "python3"
  },
  "language_info": {
   "codemirror_mode": {
    "name": "ipython",
    "version": 3
   },
   "file_extension": ".py",
   "mimetype": "text/x-python",
   "name": "python",
   "nbconvert_exporter": "python",
   "pygments_lexer": "ipython3",
   "version": "3.9.7"
  },
  "papermill": {
   "default_parameters": {},
   "duration": 33.687681,
   "end_time": "2021-09-21T04:22:04.750216",
   "environment_variables": {},
   "exception": null,
   "input_path": "__notebook__.ipynb",
   "output_path": "__notebook__.ipynb",
   "parameters": {},
   "start_time": "2021-09-21T04:21:31.062535",
   "version": "2.3.3"
  }
 },
 "nbformat": 4,
 "nbformat_minor": 5
}
